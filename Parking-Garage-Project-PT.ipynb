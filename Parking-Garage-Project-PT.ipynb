{
 "cells": [
  {
   "cell_type": "markdown",
   "metadata": {},
   "source": [
    "# Parking Garage Project\n",
    "\n",
    "Your assignment for today is to create a parking garage class to get more familiar with Object Oriented Programming(OOP). \n",
    "\n",
    "Your parking gargage class should have the following methods:\n",
    "- takeTicket\n",
    "   - This should decrease the amount of tickets available by 1\n",
    "   - This should decrease the amount of parkingSpaces available by 1\n",
    "- payForParking\n",
    "   - Display an input that waits for an amount from the user and store it in a variable\n",
    "   - If the payment variable is not empty then ->  display a message to the user that their ticket has been paid and they have 15mins to leave\n",
    "   - This should update the \"currentTicket\" dictionary key \"paid\" to True\n",
    "- leaveGarage\n",
    "   - If the ticket has been paid, display a message of \"Thank You, have a nice day\"\n",
    "   - If the ticket has not been paid, display an input prompt for payment\n",
    "      - Once paid, display message \"Thank you, have a nice day!\"\n",
    "   - Update parkingSpaces list to increase by 1\n",
    "   - Update tickets list to increase by 1\n",
    "\n",
    "You will need a few attributes as well:\n",
    "- tickets -> list\n",
    "- parkingSpaces -> list\n",
    "- currentTicket -> dictionary"
   ]
  },
  {
   "cell_type": "code",
   "execution_count": 34,
   "metadata": {},
   "outputs": [
    {
     "name": "stdout",
     "output_type": "stream",
     "text": [
      "{'A': 'not paid'}\n",
      "['B', 'C', 'D', 'E', 'F', 'G', 'H', 'I', 'J', 'K', 'L']\n",
      "['A']\n",
      "Your space is A\n"
     ]
    }
   ],
   "source": [
    "#Start your code here...\n"
   ]
  },
  {
   "cell_type": "code",
   "execution_count": 2,
   "metadata": {},
   "outputs": [
    {
     "name": "stdout",
     "output_type": "stream",
     "text": [
      "Your space is number 1, please proceed\n",
      "We are currently fully occupied, sorry for the inconvenience.\n",
      "Your space is number 2, please proceed\n"
     ]
    }
   ],
   "source": [
    "class ParkingGarage():\n",
    "    tickets = {1:\"available\",\n",
    "               2:\"available\",\n",
    "               3:\"available\",\n",
    "               4:\"available\",\n",
    "               5:\"available\",\n",
    "               6:\"available\",\n",
    "               7:\"available\",\n",
    "               8:\"available\",\n",
    "               9:\"available\",\n",
    "               10:\"available\"}\n",
    "    \n",
    "    def __init__(self, name):\n",
    "        self.name = name\n",
    "        \n",
    "    def take_ticket(self):\n",
    "        for key,value in self.tickets.items():\n",
    "            if value == \"available\":\n",
    "                self.tickets[key] = \"occupied\"\n",
    "                print(f\"Your space is number {key}, please proceed\")\n",
    "                break\n",
    "            else:\n",
    "                print(\"We are currently fully occupied, sorry for the inconvenience.\")\n",
    "                \n",
    "    def pay_for_ticket(self):\n",
    "        ticket = int(input(\"Please enter your ticket number. \"))\n",
    "        for ticket in self.tickets:\n",
    "            if self.tickets[ticket] == \"occupied\":\n",
    "                paid = int(input(\"You owe $10, please pay now. \"))\n",
    "                if paid == 10:\n",
    "                    print(\"Thank you, you have 15 minutes to exit.\")\n",
    "                    self.tickets[ticket] = \"paid\"\n",
    "                    break\n",
    "            \n",
    "    def leave_garage(self):\n",
    "        ticket = int(input(\"Please enter your ticket number.\"))\n",
    "        for ticket in self.tickets:\n",
    "            if self.tickets[ticket] == \"paid\":\n",
    "                print(\"Thank you have a nice day!\")\n",
    "                self.tickets[ticket] = \"available\"\n",
    "                break\n",
    "            elif self.tickets[ticket] == \"occupied\":\n",
    "                paid = int(input(\"You owe $10, please pay now.\"))\n",
    "                if paid == 10:\n",
    "                    print(\"Thank you have a nice day!\")\n",
    "                    self.tickets[ticket] = \"available\"\n",
    "                    break\n",
    "                \n",
    "\n",
    "par = ParkingGarage(\"Grady\")\n",
    "park = ParkingGarage(\"Lee\")\n",
    "par.take_ticket()\n",
    "park.take_ticket()"
   ]
  },
  {
   "cell_type": "code",
   "execution_count": null,
   "metadata": {},
   "outputs": [],
   "source": []
  }
 ],
 "metadata": {
  "kernelspec": {
   "display_name": "Python 3 (ipykernel)",
   "language": "python",
   "name": "python3"
  },
  "language_info": {
   "codemirror_mode": {
    "name": "ipython",
    "version": 3
   },
   "file_extension": ".py",
   "mimetype": "text/x-python",
   "name": "python",
   "nbconvert_exporter": "python",
   "pygments_lexer": "ipython3",
   "version": "3.9.7"
  }
 },
 "nbformat": 4,
 "nbformat_minor": 2
}
